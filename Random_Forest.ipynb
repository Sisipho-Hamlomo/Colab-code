{
  "nbformat": 4,
  "nbformat_minor": 0,
  "metadata": {
    "colab": {
      "provenance": [],
      "include_colab_link": true
    },
    "kernelspec": {
      "name": "python3",
      "display_name": "Python 3"
    }
  },
  "cells": [
    {
      "cell_type": "markdown",
      "metadata": {
        "id": "view-in-github",
        "colab_type": "text"
      },
      "source": [
        "<a href=\"https://colab.research.google.com/github/Sisipho-Hamlomo/Decision-tree/blob/main/Random_Forest.ipynb\" target=\"_parent\"><img src=\"https://colab.research.google.com/assets/colab-badge.svg\" alt=\"Open In Colab\"/></a>"
      ]
    },
    {
      "cell_type": "code",
      "metadata": {
        "id": "nnf78jRySfNT"
      },
      "source": [
        "import numpy as np\n",
        "import copy\n",
        "init_data = {\"cloud\":[\"sun\", \"sun\",\"covered\", \"rain\", \"rain\", \"rain\", \"covered\", \"sun\",\"rain\",\"sun\",\"covered\", \"covered\", \"covered\", \"rain\"],\n",
        "        \"temperature\": [\"hot\", \"hot\", \"hot\",\"good\", \"fresh\",\"fresh\",\"fresh\",\"good\",\"fresh\", \"good\", \"good\", \"good\", \"hot\", \"good\"],\n",
        "        \"humidity\": [\"high\", \"high\", \"high\", \"high\", \"normal\", \"normal\", \"normal\", \"high\",\"normal\", \"normal\", \"normal\", \"high\", \"normal\",\"high\"],\n",
        "        \"wind\": [\"false\", \"true\",\"false\", \"false\", \"false\", \"true\", \"true\",\"false\", \"false\", \"false\", \"true\",\"true\", \"false\",\"true\"],\n",
        "         \"golf\": [\"not play\", \"not play\", \"play\", \"play\", \"play\", \"not play\", \"play\", \"not play\", \"play\", \"play\", \"play\", \"play\", \"play\", \"not play\"]}\n",
        "#features =[\"cloud\", \"temperature\", \"humidity\",\"wind\"]"
      ],
      "execution_count": null,
      "outputs": []
    },
    {
      "cell_type": "code",
      "metadata": {
        "id": "oRp6Q-s4SoaH"
      },
      "source": [],
      "execution_count": null,
      "outputs": []
    },
    {
      "cell_type": "markdown",
      "metadata": {
        "id": "Etjm-BEPn9jQ"
      },
      "source": [
        "We first create a decision tree\n"
      ]
    },
    {
      "cell_type": "code",
      "metadata": {
        "id": "pA1CiH4kSyxS"
      },
      "source": [
        " #Entropy function\n",
        "import numpy as np\n",
        "def Entropy(target_col):\n",
        "    temp = list(dict.fromkeys(target_col))             #Get unique values\n",
        "\n",
        "    counts = [target_col.count(i) for i in temp]       #Get the number of occurances of each value from target_col\n",
        "\n",
        "    entropy = sum([-(cnt/sum(counts))*np.log2(cnt/sum(counts)) for cnt in counts ])\n",
        "\n",
        "    return entropy\n",
        "\n",
        "#Auxiliary function\n",
        "def getData(data, feature):\n",
        "    lst = data[feature]\n",
        "    t = list(dict.fromkeys(lst))\n",
        "    indices = []\n",
        "    for i in t:\n",
        "        indices.append([a for a, x in enumerate(lst) if x == i])\n",
        "    values = [[data[\"Golf \"][i] for i in indices[k]] for k in range(len(t))]\n",
        "    return lst\n",
        "\n",
        "#Information Gain\n",
        "def Gain(data, feature):\n",
        "\n",
        "    #total Entropy\n",
        "    H = Entropy(data[\"Golf \"])\n",
        "\n",
        "    unique = list(dict.fromkeys(data[feature]))             #Get unique values\n",
        "    split = getData(data, feature)\n",
        "    total_entropy = sum([(len(k)/len(data[feature]))*Entropy(k) for k in split])\n",
        "    return H - total_entropy\n",
        "\n",
        "def getRow(data, row_No):\n",
        "  keys = list(data.keys())\n",
        "  query = {}\n",
        "  for key in keys:\n",
        "    query.update({key: data[key][row_No]})\n",
        "\n",
        "  return query\n"
      ],
      "execution_count": null,
      "outputs": []
    },
    {
      "cell_type": "code",
      "metadata": {
        "id": "ZfegAWSRoOjW"
      },
      "source": [
        "def ID3(original_data, new_data, features, feature, parent_node = None):\n",
        "    import pprint\n",
        "    \"\"\"The three stop cases are:\n",
        "                **All rows in the target feautre have the same value\n",
        "                **The dataset can be no longer split since the are no more features left\n",
        "                **The dataset can no longer be split since there are no more rows left/ No data left\n",
        "    \"\"\"\n",
        "\n",
        "    if(len(list(dict.fromkeys(new_data[\"Golf \"])))) <= 1:\n",
        "        if(len(list(dict.fromkeys(new_data[\"Golf \"])))) == 0:\n",
        "          return list(dict.fromkeys(original_data[\"Golf \"]))[np.argmax(list(dict.fromkeys(original_data[\"Golf \"])))]\n",
        "\n",
        "        return list(dict.fromkeys(new_data[\"Golf \"]))[0]\n",
        "\n",
        "    elif(len(new_data) == 0):\n",
        "        return list(dict.fromkeys(original_data[\"Golf \"]))[np.argmax(list(dict.fromkeys(original_data[\"golf\"])))]\n",
        "\n",
        "    elif(len(features) == 0):\n",
        "        return parent_node\n",
        "\n",
        "    else:\n",
        "        parent_node = list(dict.fromkeys(new_data[feature]))[np.argmax(list(dict.fromkeys(new_data[feature])))]\n",
        "\n",
        "        gains = [Gain(new_data, feature) for f in features]\n",
        "\n",
        "        bestFeatureIndex = np.argmax(gains)\n",
        "\n",
        "        bestFeature = features[bestFeatureIndex]\n",
        "        tree = {bestFeature:{}}\n",
        "\n",
        "        features.remove(bestFeature)\n",
        "\n",
        "        new_data1 = new_data\n",
        "\n",
        "        for val in list(dict.fromkeys(new_data[bestFeature])):\n",
        "            val = val\n",
        "            z = [new_data1[bestFeature][i] == val for i in range(len(new_data1[bestFeature]))]\n",
        "            indices_to_remove = [a for a, x in enumerate(z) if x == False]\n",
        "            for feat in new_data1:\n",
        "                for i in sorted(indices_to_remove, reverse = True):\n",
        "                    lst = new_data1[feat]\n",
        "                    del lst[i]\n",
        "\n",
        "            import pandas as pd\n",
        "            #print(pd.DataFrame(new_data1))\n",
        "            subtree = ID3(original_data, new_data1 , features, \"Golf \", parent_node)\n",
        "            tree[bestFeature][val] = subtree\n",
        "            #pp = pprint.PrettyPrinter(width=41, compact=True)  #Printing the tree\n",
        "            #pp.pprint(tree)\n",
        "\n",
        "        return tree"
      ],
      "execution_count": null,
      "outputs": []
    },
    {
      "cell_type": "code",
      "metadata": {
        "id": "qYBqPjqvq5qV"
      },
      "source": [
        "def sub_sample(data, sample_size):\n",
        "  dic_size = len(data)\n",
        "  keys = list(data.keys())\n",
        "  new_sample_arr = []\n",
        "  new_sample_dict = {}\n",
        "  sample_ind = np.random.randint(low=0, high=dic_size-1, size=sample_size)\n",
        "  for i in sample_ind:\n",
        "    new_sample_arr.append(getRow(data, i))\n",
        "  for key in keys:\n",
        "    new_sample_dict.update({key:[x[key] for x in new_sample_arr]})\n",
        "  return new_sample_dict\n",
        "\n"
      ],
      "execution_count": null,
      "outputs": []
    },
    {
      "cell_type": "code",
      "metadata": {
        "id": "0nApSYvGx2Np"
      },
      "source": [
        "def random_features(data, no_features):\n",
        "  keys = list(data.keys())[0:-1]\n",
        "  import random\n",
        "  rn = random.sample(range(0, len(keys)), no_features)\n",
        "  feats = np.array(keys)[rn]\n",
        "  new_dat = {}\n",
        "  for f in feats:\n",
        "    new_dat.update({f:data[f]})\n",
        "  label_col = list(data.keys())[-1]\n",
        "  new_dat.update({label_col:data[label_col]})\n",
        "  return new_dat\n"
      ],
      "execution_count": null,
      "outputs": []
    },
    {
      "cell_type": "code",
      "metadata": {
        "id": "5_HHxhCYx-tl"
      },
      "source": [
        "def create_forest(initial_data, num_trees):\n",
        "  data = initial_data.copy()\n",
        "  trees = []\n",
        "  for i in range(num_trees):\n",
        "    sub_data = sub_sample(data, 10)\n",
        "    sample = random_features(sub_data, 3)\n",
        "    feats = list(sample.keys())[0:-1]\n",
        "    tree = ID3(sample, copy.deepcopy(sample), features=feats, feature=\"Golf \")\n",
        "    trees.append(tree)\n",
        "  return trees"
      ],
      "execution_count": null,
      "outputs": []
    },
    {
      "cell_type": "code",
      "metadata": {
        "id": "icW4FaAuSAa5",
        "outputId": "f95f2de7-291c-45c9-a73a-0b5aa4ed5e6e",
        "colab": {
          "base_uri": "https://localhost:8080/"
        }
      },
      "source": [
        "create_forest(init_data, 10)"
      ],
      "execution_count": null,
      "outputs": [
        {
          "output_type": "execute_result",
          "data": {
            "text/plain": [
              "[{'Cloud ': {'covered ': 'play', 'rain': 'play', 'sun': 'play'}},\n",
              " {'Cloud ': {'covered ': 'play', 'rain': 'play', 'sun': 'play'}},\n",
              " {'Humidity': {'high': {'Temperature': {'good': {'Wind': {'false ': 'play'}},\n",
              "     'hot': 'play'}},\n",
              "   'normal': 'play'}},\n",
              " {'Temperature': {'fresh': 'play',\n",
              "   'good': 'play',\n",
              "   'hot': {'Wind': {'false ': 'play', 'true ': 'play'}}}},\n",
              " {'Cloud ': {'covered ': 'play', 'rain': 'play', 'sun': 'play'}},\n",
              " {'Humidity': {'high': 'play',\n",
              "   'normal': {'Wind': {'false ': 'play',\n",
              "     'true ': {'Temperature': {'fresh': 'play', 'good': 'play'}}}}}},\n",
              " {'Temperature': {'fresh': 'play', 'good': 'play', 'hot': 'play'}},\n",
              " {'Wind': {'false ': {'Temperature': {'fresh': 'play',\n",
              "     'good': {'Humidity': {'high': 'play'}},\n",
              "     'hot': 'play'}},\n",
              "   'true ': 'play'}},\n",
              " {'Temperature': {'fresh': 'play', 'good': 'play', 'hot': 'do not play'}},\n",
              " {'Cloud ': {'covered ': 'play', 'rain': 'play', 'sun': 'play'}}]"
            ]
          },
          "metadata": {
            "tags": []
          },
          "execution_count": 49
        }
      ]
    },
    {
      "cell_type": "code",
      "metadata": {
        "id": "1-7J_A_5iB8y"
      },
      "source": [
        "def traverse(query, tree):\n",
        "  for k in list(query.keys()):\n",
        "    if k in list(tree.keys()):\n",
        "      try:\n",
        "        result = tree[k][query[k]]\n",
        "      except:\n",
        "        return 1\n",
        "\n",
        "      res = tree[k][query[k]]\n",
        "\n",
        "      if isinstance(result, dict):\n",
        "        return traverse(query, result)\n",
        "      else:\n",
        "        return result"
      ],
      "execution_count": null,
      "outputs": []
    },
    {
      "cell_type": "code",
      "metadata": {
        "id": "3d10C8tsOPlH"
      },
      "source": [],
      "execution_count": null,
      "outputs": []
    },
    {
      "cell_type": "markdown",
      "metadata": {
        "id": "jtYayxTO9O3M"
      },
      "source": [
        "To make a prediction we will traverse all the trees in the random forest and take take the majority vote\n",
        "\n"
      ]
    },
    {
      "cell_type": "code",
      "metadata": {
        "id": "nXmTAGtucL0w"
      },
      "source": [
        "def predict(forest, query):\n",
        "  from statistics import mode\n",
        "  predictions = [traverse(query, tree) for tree in forest]\n",
        "  return mode(predictions)\n"
      ],
      "execution_count": null,
      "outputs": []
    },
    {
      "cell_type": "code",
      "metadata": {
        "id": "UKZjGfvpsMP8"
      },
      "source": [
        "import pandas as pd"
      ],
      "execution_count": null,
      "outputs": []
    },
    {
      "cell_type": "markdown",
      "metadata": {
        "id": "3l68o2VXuZl1"
      },
      "source": [
        "Testing the Random Forest on the training data\n"
      ]
    },
    {
      "cell_type": "code",
      "metadata": {
        "id": "aJJ-Ak6Cufu4",
        "outputId": "c9fd8298-b7b7-4597-fb84-b424fd937090",
        "colab": {
          "base_uri": "https://localhost:8080/"
        }
      },
      "source": [
        "data = pd.DataFrame(init_data)\n",
        "forest = create_forest(init_data, 100)\n",
        "pred = []\n",
        "for i in range(14):\n",
        "  query = data.iloc[i].to_dict()\n",
        "  query.pop(\"Golf \")\n",
        "  pred.append(predict(forest, query))"
      ],
      "execution_count": null,
      "outputs": [
        {
          "output_type": "error",
          "ename": "AttributeError",
          "evalue": "ignored",
          "traceback": [
            "\u001b[0;31m---------------------------------------------------------------------------\u001b[0m",
            "\u001b[0;31mAttributeError\u001b[0m                            Traceback (most recent call last)",
            "\u001b[0;32m<ipython-input-55-a2198cf3d7d9>\u001b[0m in \u001b[0;36m<module>\u001b[0;34m()\u001b[0m\n\u001b[1;32m      5\u001b[0m   \u001b[0mquery\u001b[0m \u001b[0;34m=\u001b[0m \u001b[0mdata\u001b[0m\u001b[0;34m.\u001b[0m\u001b[0miloc\u001b[0m\u001b[0;34m[\u001b[0m\u001b[0mi\u001b[0m\u001b[0;34m]\u001b[0m\u001b[0;34m.\u001b[0m\u001b[0mto_dict\u001b[0m\u001b[0;34m(\u001b[0m\u001b[0;34m)\u001b[0m\u001b[0;34m\u001b[0m\u001b[0;34m\u001b[0m\u001b[0m\n\u001b[1;32m      6\u001b[0m   \u001b[0mquery\u001b[0m\u001b[0;34m.\u001b[0m\u001b[0mpop\u001b[0m\u001b[0;34m(\u001b[0m\u001b[0;34m\"Golf \"\u001b[0m\u001b[0;34m)\u001b[0m\u001b[0;34m\u001b[0m\u001b[0;34m\u001b[0m\u001b[0m\n\u001b[0;32m----> 7\u001b[0;31m   \u001b[0mpred\u001b[0m\u001b[0;34m.\u001b[0m\u001b[0mappend\u001b[0m\u001b[0;34m(\u001b[0m\u001b[0mpredict\u001b[0m\u001b[0;34m(\u001b[0m\u001b[0mforest\u001b[0m\u001b[0;34m,\u001b[0m \u001b[0mquery\u001b[0m\u001b[0;34m)\u001b[0m\u001b[0;34m)\u001b[0m\u001b[0;34m\u001b[0m\u001b[0;34m\u001b[0m\u001b[0m\n\u001b[0m",
            "\u001b[0;32m<ipython-input-51-523c7b9a7ae3>\u001b[0m in \u001b[0;36mpredict\u001b[0;34m(forest, query)\u001b[0m\n\u001b[1;32m      1\u001b[0m \u001b[0;32mdef\u001b[0m \u001b[0mpredict\u001b[0m\u001b[0;34m(\u001b[0m\u001b[0mforest\u001b[0m\u001b[0;34m,\u001b[0m \u001b[0mquery\u001b[0m\u001b[0;34m)\u001b[0m\u001b[0;34m:\u001b[0m\u001b[0;34m\u001b[0m\u001b[0;34m\u001b[0m\u001b[0m\n\u001b[1;32m      2\u001b[0m   \u001b[0;32mfrom\u001b[0m \u001b[0mstatistics\u001b[0m \u001b[0;32mimport\u001b[0m \u001b[0mmode\u001b[0m\u001b[0;34m\u001b[0m\u001b[0;34m\u001b[0m\u001b[0m\n\u001b[0;32m----> 3\u001b[0;31m   \u001b[0mpredictions\u001b[0m \u001b[0;34m=\u001b[0m \u001b[0;34m[\u001b[0m\u001b[0mtraverse\u001b[0m\u001b[0;34m(\u001b[0m\u001b[0mquery\u001b[0m\u001b[0;34m,\u001b[0m \u001b[0mtree\u001b[0m\u001b[0;34m)\u001b[0m \u001b[0;32mfor\u001b[0m \u001b[0mtree\u001b[0m \u001b[0;32min\u001b[0m \u001b[0mforest\u001b[0m\u001b[0;34m]\u001b[0m\u001b[0;34m\u001b[0m\u001b[0;34m\u001b[0m\u001b[0m\n\u001b[0m\u001b[1;32m      4\u001b[0m   \u001b[0;32mreturn\u001b[0m \u001b[0mmode\u001b[0m\u001b[0;34m(\u001b[0m\u001b[0mpredictions\u001b[0m\u001b[0;34m)\u001b[0m\u001b[0;34m\u001b[0m\u001b[0;34m\u001b[0m\u001b[0m\n",
            "\u001b[0;32m<ipython-input-51-523c7b9a7ae3>\u001b[0m in \u001b[0;36m<listcomp>\u001b[0;34m(.0)\u001b[0m\n\u001b[1;32m      1\u001b[0m \u001b[0;32mdef\u001b[0m \u001b[0mpredict\u001b[0m\u001b[0;34m(\u001b[0m\u001b[0mforest\u001b[0m\u001b[0;34m,\u001b[0m \u001b[0mquery\u001b[0m\u001b[0;34m)\u001b[0m\u001b[0;34m:\u001b[0m\u001b[0;34m\u001b[0m\u001b[0;34m\u001b[0m\u001b[0m\n\u001b[1;32m      2\u001b[0m   \u001b[0;32mfrom\u001b[0m \u001b[0mstatistics\u001b[0m \u001b[0;32mimport\u001b[0m \u001b[0mmode\u001b[0m\u001b[0;34m\u001b[0m\u001b[0;34m\u001b[0m\u001b[0m\n\u001b[0;32m----> 3\u001b[0;31m   \u001b[0mpredictions\u001b[0m \u001b[0;34m=\u001b[0m \u001b[0;34m[\u001b[0m\u001b[0mtraverse\u001b[0m\u001b[0;34m(\u001b[0m\u001b[0mquery\u001b[0m\u001b[0;34m,\u001b[0m \u001b[0mtree\u001b[0m\u001b[0;34m)\u001b[0m \u001b[0;32mfor\u001b[0m \u001b[0mtree\u001b[0m \u001b[0;32min\u001b[0m \u001b[0mforest\u001b[0m\u001b[0;34m]\u001b[0m\u001b[0;34m\u001b[0m\u001b[0;34m\u001b[0m\u001b[0m\n\u001b[0m\u001b[1;32m      4\u001b[0m   \u001b[0;32mreturn\u001b[0m \u001b[0mmode\u001b[0m\u001b[0;34m(\u001b[0m\u001b[0mpredictions\u001b[0m\u001b[0;34m)\u001b[0m\u001b[0;34m\u001b[0m\u001b[0;34m\u001b[0m\u001b[0m\n",
            "\u001b[0;32m<ipython-input-50-c9ea71700f52>\u001b[0m in \u001b[0;36mtraverse\u001b[0;34m(query, tree)\u001b[0m\n\u001b[1;32m      1\u001b[0m \u001b[0;32mdef\u001b[0m \u001b[0mtraverse\u001b[0m\u001b[0;34m(\u001b[0m\u001b[0mquery\u001b[0m\u001b[0;34m,\u001b[0m \u001b[0mtree\u001b[0m\u001b[0;34m)\u001b[0m\u001b[0;34m:\u001b[0m\u001b[0;34m\u001b[0m\u001b[0;34m\u001b[0m\u001b[0m\n\u001b[1;32m      2\u001b[0m   \u001b[0;32mfor\u001b[0m \u001b[0mk\u001b[0m \u001b[0;32min\u001b[0m \u001b[0mlist\u001b[0m\u001b[0;34m(\u001b[0m\u001b[0mquery\u001b[0m\u001b[0;34m.\u001b[0m\u001b[0mkeys\u001b[0m\u001b[0;34m(\u001b[0m\u001b[0;34m)\u001b[0m\u001b[0;34m)\u001b[0m\u001b[0;34m:\u001b[0m\u001b[0;34m\u001b[0m\u001b[0;34m\u001b[0m\u001b[0m\n\u001b[0;32m----> 3\u001b[0;31m     \u001b[0;32mif\u001b[0m \u001b[0mk\u001b[0m \u001b[0;32min\u001b[0m \u001b[0mlist\u001b[0m\u001b[0;34m(\u001b[0m\u001b[0mtree\u001b[0m\u001b[0;34m.\u001b[0m\u001b[0mkeys\u001b[0m\u001b[0;34m(\u001b[0m\u001b[0;34m)\u001b[0m\u001b[0;34m)\u001b[0m\u001b[0;34m:\u001b[0m\u001b[0;34m\u001b[0m\u001b[0;34m\u001b[0m\u001b[0m\n\u001b[0m\u001b[1;32m      4\u001b[0m       \u001b[0;32mtry\u001b[0m\u001b[0;34m:\u001b[0m\u001b[0;34m\u001b[0m\u001b[0;34m\u001b[0m\u001b[0m\n\u001b[1;32m      5\u001b[0m         \u001b[0mresult\u001b[0m \u001b[0;34m=\u001b[0m \u001b[0mtree\u001b[0m\u001b[0;34m[\u001b[0m\u001b[0mk\u001b[0m\u001b[0;34m]\u001b[0m\u001b[0;34m[\u001b[0m\u001b[0mquery\u001b[0m\u001b[0;34m[\u001b[0m\u001b[0mk\u001b[0m\u001b[0;34m]\u001b[0m\u001b[0;34m]\u001b[0m\u001b[0;34m\u001b[0m\u001b[0;34m\u001b[0m\u001b[0m\n",
            "\u001b[0;31mAttributeError\u001b[0m: 'str' object has no attribute 'keys'"
          ]
        }
      ]
    },
    {
      "cell_type": "code",
      "metadata": {
        "id": "-tGaVxAqvAGB",
        "outputId": "69c752a2-bd9e-488b-8b9b-e8dd2a457c04",
        "colab": {
          "base_uri": "https://localhost:8080/",
          "height": 561
        }
      },
      "source": [
        "targets = np.array(init_data[\"golf\"])\n",
        "accuracy = ((np.array(pred) == targets)==True).sum()/14"
      ],
      "execution_count": null,
      "outputs": [
        {
          "output_type": "error",
          "ename": "KeyError",
          "evalue": "ignored",
          "traceback": [
            "\u001b[0;31m---------------------------------------------------------------------------\u001b[0m",
            "\u001b[0;31mKeyError\u001b[0m                                  Traceback (most recent call last)",
            "\u001b[0;32m/usr/local/lib/python3.6/dist-packages/pandas/core/indexes/base.py\u001b[0m in \u001b[0;36mget_loc\u001b[0;34m(self, key, method, tolerance)\u001b[0m\n\u001b[1;32m   2894\u001b[0m             \u001b[0;32mtry\u001b[0m\u001b[0;34m:\u001b[0m\u001b[0;34m\u001b[0m\u001b[0;34m\u001b[0m\u001b[0m\n\u001b[0;32m-> 2895\u001b[0;31m                 \u001b[0;32mreturn\u001b[0m \u001b[0mself\u001b[0m\u001b[0;34m.\u001b[0m\u001b[0m_engine\u001b[0m\u001b[0;34m.\u001b[0m\u001b[0mget_loc\u001b[0m\u001b[0;34m(\u001b[0m\u001b[0mcasted_key\u001b[0m\u001b[0;34m)\u001b[0m\u001b[0;34m\u001b[0m\u001b[0;34m\u001b[0m\u001b[0m\n\u001b[0m\u001b[1;32m   2896\u001b[0m             \u001b[0;32mexcept\u001b[0m \u001b[0mKeyError\u001b[0m \u001b[0;32mas\u001b[0m \u001b[0merr\u001b[0m\u001b[0;34m:\u001b[0m\u001b[0;34m\u001b[0m\u001b[0;34m\u001b[0m\u001b[0m\n",
            "\u001b[0;32mpandas/_libs/index.pyx\u001b[0m in \u001b[0;36mpandas._libs.index.IndexEngine.get_loc\u001b[0;34m()\u001b[0m\n",
            "\u001b[0;32mpandas/_libs/index.pyx\u001b[0m in \u001b[0;36mpandas._libs.index.IndexEngine.get_loc\u001b[0;34m()\u001b[0m\n",
            "\u001b[0;32mpandas/_libs/hashtable_class_helper.pxi\u001b[0m in \u001b[0;36mpandas._libs.hashtable.PyObjectHashTable.get_item\u001b[0;34m()\u001b[0m\n",
            "\u001b[0;32mpandas/_libs/hashtable_class_helper.pxi\u001b[0m in \u001b[0;36mpandas._libs.hashtable.PyObjectHashTable.get_item\u001b[0;34m()\u001b[0m\n",
            "\u001b[0;31mKeyError\u001b[0m: 'golf'",
            "\nThe above exception was the direct cause of the following exception:\n",
            "\u001b[0;31mKeyError\u001b[0m                                  Traceback (most recent call last)",
            "\u001b[0;32m<ipython-input-54-3b49c1b305ed>\u001b[0m in \u001b[0;36m<module>\u001b[0;34m()\u001b[0m\n\u001b[0;32m----> 1\u001b[0;31m \u001b[0mtargets\u001b[0m \u001b[0;34m=\u001b[0m \u001b[0mnp\u001b[0m\u001b[0;34m.\u001b[0m\u001b[0marray\u001b[0m\u001b[0;34m(\u001b[0m\u001b[0minit_data\u001b[0m\u001b[0;34m[\u001b[0m\u001b[0;34m\"golf\"\u001b[0m\u001b[0;34m]\u001b[0m\u001b[0;34m)\u001b[0m\u001b[0;34m\u001b[0m\u001b[0;34m\u001b[0m\u001b[0m\n\u001b[0m\u001b[1;32m      2\u001b[0m \u001b[0maccuracy\u001b[0m \u001b[0;34m=\u001b[0m \u001b[0;34m(\u001b[0m\u001b[0;34m(\u001b[0m\u001b[0mnp\u001b[0m\u001b[0;34m.\u001b[0m\u001b[0marray\u001b[0m\u001b[0;34m(\u001b[0m\u001b[0mpred\u001b[0m\u001b[0;34m)\u001b[0m \u001b[0;34m==\u001b[0m \u001b[0mtargets\u001b[0m\u001b[0;34m)\u001b[0m\u001b[0;34m==\u001b[0m\u001b[0;32mTrue\u001b[0m\u001b[0;34m)\u001b[0m\u001b[0;34m.\u001b[0m\u001b[0msum\u001b[0m\u001b[0;34m(\u001b[0m\u001b[0;34m)\u001b[0m\u001b[0;34m/\u001b[0m\u001b[0;36m14\u001b[0m\u001b[0;34m\u001b[0m\u001b[0;34m\u001b[0m\u001b[0m\n",
            "\u001b[0;32m/usr/local/lib/python3.6/dist-packages/pandas/core/frame.py\u001b[0m in \u001b[0;36m__getitem__\u001b[0;34m(self, key)\u001b[0m\n\u001b[1;32m   2904\u001b[0m             \u001b[0;32mif\u001b[0m \u001b[0mself\u001b[0m\u001b[0;34m.\u001b[0m\u001b[0mcolumns\u001b[0m\u001b[0;34m.\u001b[0m\u001b[0mnlevels\u001b[0m \u001b[0;34m>\u001b[0m \u001b[0;36m1\u001b[0m\u001b[0;34m:\u001b[0m\u001b[0;34m\u001b[0m\u001b[0;34m\u001b[0m\u001b[0m\n\u001b[1;32m   2905\u001b[0m                 \u001b[0;32mreturn\u001b[0m \u001b[0mself\u001b[0m\u001b[0;34m.\u001b[0m\u001b[0m_getitem_multilevel\u001b[0m\u001b[0;34m(\u001b[0m\u001b[0mkey\u001b[0m\u001b[0;34m)\u001b[0m\u001b[0;34m\u001b[0m\u001b[0;34m\u001b[0m\u001b[0m\n\u001b[0;32m-> 2906\u001b[0;31m             \u001b[0mindexer\u001b[0m \u001b[0;34m=\u001b[0m \u001b[0mself\u001b[0m\u001b[0;34m.\u001b[0m\u001b[0mcolumns\u001b[0m\u001b[0;34m.\u001b[0m\u001b[0mget_loc\u001b[0m\u001b[0;34m(\u001b[0m\u001b[0mkey\u001b[0m\u001b[0;34m)\u001b[0m\u001b[0;34m\u001b[0m\u001b[0;34m\u001b[0m\u001b[0m\n\u001b[0m\u001b[1;32m   2907\u001b[0m             \u001b[0;32mif\u001b[0m \u001b[0mis_integer\u001b[0m\u001b[0;34m(\u001b[0m\u001b[0mindexer\u001b[0m\u001b[0;34m)\u001b[0m\u001b[0;34m:\u001b[0m\u001b[0;34m\u001b[0m\u001b[0;34m\u001b[0m\u001b[0m\n\u001b[1;32m   2908\u001b[0m                 \u001b[0mindexer\u001b[0m \u001b[0;34m=\u001b[0m \u001b[0;34m[\u001b[0m\u001b[0mindexer\u001b[0m\u001b[0;34m]\u001b[0m\u001b[0;34m\u001b[0m\u001b[0;34m\u001b[0m\u001b[0m\n",
            "\u001b[0;32m/usr/local/lib/python3.6/dist-packages/pandas/core/indexes/base.py\u001b[0m in \u001b[0;36mget_loc\u001b[0;34m(self, key, method, tolerance)\u001b[0m\n\u001b[1;32m   2895\u001b[0m                 \u001b[0;32mreturn\u001b[0m \u001b[0mself\u001b[0m\u001b[0;34m.\u001b[0m\u001b[0m_engine\u001b[0m\u001b[0;34m.\u001b[0m\u001b[0mget_loc\u001b[0m\u001b[0;34m(\u001b[0m\u001b[0mcasted_key\u001b[0m\u001b[0;34m)\u001b[0m\u001b[0;34m\u001b[0m\u001b[0;34m\u001b[0m\u001b[0m\n\u001b[1;32m   2896\u001b[0m             \u001b[0;32mexcept\u001b[0m \u001b[0mKeyError\u001b[0m \u001b[0;32mas\u001b[0m \u001b[0merr\u001b[0m\u001b[0;34m:\u001b[0m\u001b[0;34m\u001b[0m\u001b[0;34m\u001b[0m\u001b[0m\n\u001b[0;32m-> 2897\u001b[0;31m                 \u001b[0;32mraise\u001b[0m \u001b[0mKeyError\u001b[0m\u001b[0;34m(\u001b[0m\u001b[0mkey\u001b[0m\u001b[0;34m)\u001b[0m \u001b[0;32mfrom\u001b[0m \u001b[0merr\u001b[0m\u001b[0;34m\u001b[0m\u001b[0;34m\u001b[0m\u001b[0m\n\u001b[0m\u001b[1;32m   2898\u001b[0m \u001b[0;34m\u001b[0m\u001b[0m\n\u001b[1;32m   2899\u001b[0m         \u001b[0;32mif\u001b[0m \u001b[0mtolerance\u001b[0m \u001b[0;32mis\u001b[0m \u001b[0;32mnot\u001b[0m \u001b[0;32mNone\u001b[0m\u001b[0;34m:\u001b[0m\u001b[0;34m\u001b[0m\u001b[0;34m\u001b[0m\u001b[0m\n",
            "\u001b[0;31mKeyError\u001b[0m: 'golf'"
          ]
        }
      ]
    },
    {
      "cell_type": "code",
      "metadata": {
        "id": "ot08Ux0UvDHQ",
        "outputId": "88acb326-5daf-4113-a100-21d8ed551257",
        "colab": {
          "base_uri": "https://localhost:8080/"
        }
      },
      "source": [
        "print(accuracy)"
      ],
      "execution_count": null,
      "outputs": [
        {
          "output_type": "stream",
          "text": [
            "0.42857142857142855\n"
          ],
          "name": "stdout"
        }
      ]
    },
    {
      "cell_type": "code",
      "metadata": {
        "id": "mTglS_5_8zTq"
      },
      "source": [],
      "execution_count": null,
      "outputs": []
    }
  ]
}